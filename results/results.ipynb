{
 "cells": [
  {
   "cell_type": "code",
   "execution_count": null,
   "id": "14d6a76a-5697-4dca-881b-60dd56f6d823",
   "metadata": {},
   "outputs": [],
   "source": [
    "import matplotlib.pyplot as plt\n",
    "import pandas as pd\n",
    "import seaborn as sns\n",
    "from prettytable import PrettyTable"
   ]
  },
  {
   "cell_type": "code",
   "execution_count": null,
   "id": "a8bac913-8574-4852-b1f9-c7d4f9f40159",
   "metadata": {},
   "outputs": [],
   "source": [
    "df = pd.read_csv(\"../task_reward_iql_results/pen_results.csv\")\n",
    "idx = df.groupby(\"dataset\")[\"mean_score\"].transform(\"max\") == df[\"mean_score\"]\n",
    "best_df = df[idx]"
   ]
  },
  {
   "cell_type": "code",
   "execution_count": null,
   "id": "0c09b143-fa57-439d-b620-bff2b2f94ce1",
   "metadata": {
    "scrolled": true
   },
   "outputs": [],
   "source": [
    "table = PrettyTable()\n",
    "table.add_column(\"Dataset\", best_df[\"dataset\"].tolist())\n",
    "ms = best_df[\"mean_score\"].tolist()\n",
    "ss = best_df[\"std_score\"].tolist()\n",
    "nms = best_df[\"normalized_mean_score\"].tolist()\n",
    "nss = best_df[\"normalized_std_score\"].tolist()\n",
    "score = []\n",
    "n_score = []\n",
    "for i, j in enumerate(ms):\n",
    "    score.append(f\"{round(j,2)} \\u00b1 {round(ss[i],2)}\")\n",
    "    n_score.append(f\"{round(nms[i],2)} \\u00b1 {round(nss[i],2)}\")\n",
    "table.add_column(\"IQL with task reward (raw)\", score)\n",
    "table.add_column(\"IQL with task reward (normalized)\", n_score)\n",
    "print(table)"
   ]
  },
  {
   "cell_type": "code",
   "execution_count": null,
   "id": "5887c676-2958-47a3-86c3-2050ecb83119",
   "metadata": {},
   "outputs": [],
   "source": [
    "sns.barplot(best_df, x=\"dataset\", y=\"normalized_mean_score\")\n",
    "plt.errorbar(\n",
    "    x=best_df[\"dataset\"],\n",
    "    y=best_df[\"normalized_mean_score\"],\n",
    "    yerr=best_df[\"normalized_std_score\"],\n",
    "    fmt=\"none\",  # Remove the default markers\n",
    "    c=\"black\",  # Set the color of the error bars\n",
    "    capsize=5,\n",
    ")  # Add caps to the error bars\n",
    "\n",
    "plt.xlabel(\"Dataset\")\n",
    "plt.ylabel(\"Mean Score (normalized)\")\n",
    "plt.title(\"IQL with task reward (normalized)\")\n",
    "plt.show()"
   ]
  }
 ],
 "metadata": {
  "kernelspec": {
   "display_name": "Python 3 (ipykernel)",
   "language": "python",
   "name": "python3"
  },
  "language_info": {
   "codemirror_mode": {
    "name": "ipython",
    "version": 3
   },
   "file_extension": ".py",
   "mimetype": "text/x-python",
   "name": "python",
   "nbconvert_exporter": "python",
   "pygments_lexer": "ipython3",
   "version": "3.12.9"
  }
 },
 "nbformat": 4,
 "nbformat_minor": 5
}
